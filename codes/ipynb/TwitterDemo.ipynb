{
 "cells": [
  {
   "cell_type": "code",
   "execution_count": 2,
   "metadata": {},
   "outputs": [],
   "source": [
    "consumer_key = \"UODXYhgdi5iSUkb8B3BIludZ0\"\n",
    "consumer_secret = \"JxXDM9xoSjFGXlsWWPRLFGcHeahOKpx7W9uAKWsM0BVHOhyN8f\"\n",
    "access_token = \"964513788606189570-oIVsHe3QKcReJDE3Z2lSiFjga9CTcUc\"\n",
    "access_secret_token = \"mQzFGI4dIfftUGbzND5ZB67ddCkZfYMFMtG0OsoamDyVi\""
   ]
  },
  {
   "cell_type": "code",
   "execution_count": 3,
   "metadata": {},
   "outputs": [],
   "source": [
    "auth = tw.OAuthHandler(consumer_key, consumer_secret)\n",
    "auth.set_access_token(access_token, access_secret_token)\n",
    "\n",
    "api = tw.API(auth)"
   ]
  },
  {
   "cell_type": "code",
   "execution_count": 4,
   "metadata": {},
   "outputs": [
    {
     "name": "stdout",
     "output_type": "stream",
     "text": [
      "PMO India (@PMOIndia) India said PM @narendramodi will address a webinar for consultation towards effective implementation of Union Budget provision… https://t.co/yZC7hVewQb\n",
      "\n",
      "\n",
      "PMO India (@PMOIndia) India said Furthering connectivity and prosperity in West Bengal. https://t.co/LM93Ag42d1\n",
      "\n",
      "\n",
      "PMO India (@PMOIndia) India said Accelerating Assam’s development. https://t.co/boQFqIa5lS\n",
      "\n",
      "\n",
      "Hina Khan (@eyehinakhan) Mumbai, India said Much much congratulations to @rahulvaidya23 You really played well..Your journey was a parallel in this season and… https://t.co/ZvoNuXfjGf\n",
      "\n",
      "\n",
      "Hina Khan (@eyehinakhan) Mumbai, India said Ruby Ruby Rubiiiiiinaaaaaa \n",
      "Super proud hai Team Hiiiiiinnnnaaaaa \n",
      "Congratulations Love \n",
      "@RubiDilaik https://t.co/NFVDTxlfSJ\n",
      "\n",
      "\n",
      "PRIYANKA (@priyankachopra)  said Self-care Sunday featuring @AnomalyHaircare’s Deep Treatment Mask! Packed with rich castor seed &amp; avocado oil, it’s… https://t.co/anACp9a3QH\n",
      "\n",
      "\n",
      "NIA SHARMA (@Theniasharma) India said ✨😊😇😉😀 https://t.co/adqoSEkIdV\n",
      "\n",
      "\n",
      "NIA SHARMA (@Theniasharma) India said RT @Niamyheart3: Bling bling all along. \n",
      "@shurabhavinofficial 💥@stylebysaachivj ✨\n",
      "@premyabymanishii 💥✨✨✨\n",
      "#jamai2.0 S2  Promotions @ZEE5Prem…\n",
      "\n",
      "\n",
      "NIA SHARMA (@Theniasharma) India said RT @ZEE5Premium: #Roshini is set to slay! Get ready to give your heart to @Theniasharma when you watch #Jamai2Point0 #Season2 on 26th Febru…\n",
      "\n",
      "\n",
      "NIA SHARMA (@Theniasharma) India said RT @SornaJaman: She is look like\"A red chilly on a white peper\"🌶🌶🌶🔥🔥🔥🔥🔥#niasharma \n",
      "@Theniasharma @ZEE5Premium https://t.co/DYkjeWM4kg\n",
      "\n",
      "\n",
      "PRIYANKA (@priyankachopra)  said You’re going to crush it babe 👏🏽 https://t.co/fxbcz57ESt\n",
      "\n",
      "\n",
      "PRIYANKA (@priyankachopra)  said 🤤😍👊🏽 let’s gooooo! @nickjonas https://t.co/KBu8FWMio9\n",
      "\n",
      "\n",
      "PRIYANKA (@priyankachopra)  said 😳👊🏽🙏🏽 so grateful @RealGDT 🤩 https://t.co/o2wFYDCYbo\n",
      "\n",
      "\n",
      "Emraan Hashmi (@emraanhashmi) Mumbai said These jumbled scenes from #LutGaye need to be put in sequence! Help us sort it out. Tell us the correct sequence th… https://t.co/1DqoT7r0zl\n",
      "\n",
      "\n",
      "NIA SHARMA (@Theniasharma) India said RT @ZEE5Premium: New twist alert!\n",
      "Your favourite characters are back with a bang!💥\n",
      "Are you ready to watch them in their 2.0 avatar? 'Coz we…\n",
      "\n",
      "\n",
      "PMO India (@PMOIndia) India said बीते वर्षों में कृषि से लेकर, पशुपालन और मत्स्यपालन तक एक holistic approach अपनाई गई है।\n",
      "\n",
      "इसका परिणाम है कि कोरोना… https://t.co/zkBxCaQxF1\n",
      "\n",
      "\n",
      "PMO India (@PMOIndia) India said केंद्र सरकार ने विभिन्न सेक्टर्स के लिए PLI schemes शुरू की हैं। \n",
      "\n",
      "ये देश में मैन्यूफैक्चरिंग बढ़ाने का बेहतरीन अवस… https://t.co/2UGOz617Na\n",
      "\n",
      "\n",
      "PMO India (@PMOIndia) India said आत्मनिर्भर भारत अभियान, एक ऐसे भारत का निर्माण का मार्ग है जो न केवल अपनी आवश्यकताओं के लिए बल्कि विश्व के लिए भी उ… https://t.co/jJfQFfWal9\n",
      "\n",
      "\n",
      "PMO India (@PMOIndia) India said हम ये भी देख रहे हैं कि कैसे देश का प्राइवेट सेक्टर, देश की इस विकास यात्रा में और ज्यादा उत्साह से आगे आ रहा है।… https://t.co/P1JeXC6PN9\n",
      "\n",
      "\n",
      "PMO India (@PMOIndia) India said इस वर्ष के बजट पर जिस तरह का positive response आया है, उसने जता दिया है कि mood of the nation क्या है। \n",
      "\n",
      "देश मन बना… https://t.co/s0vzmhGFTS\n",
      "\n",
      "\n"
     ]
    }
   ],
   "source": [
    "tweets = api.home_timeline()\n",
    "for tweet in tweets:\n",
    "    print('{real_name} (@{name}) {location} said {tweet}\\n\\n'.format(\n",
    "        real_name=tweet.author.name, name=tweet.author.screen_name, location = tweet.author.location,\n",
    "        tweet=tweet.text))"
   ]
  },
  {
   "cell_type": "code",
   "execution_count": 5,
   "metadata": {},
   "outputs": [],
   "source": [
    "search_words = [\"corona\",\"covid19\",\"coronavirus\"]\n",
    "date_since = \"2020-01-1\""
   ]
  },
  {
   "cell_type": "code",
   "execution_count": 7,
   "metadata": {},
   "outputs": [],
   "source": [
    "tweets = tw.Cursor(api.search,\n",
    "              q=search_words,\n",
    "              lang=\"en\",\n",
    "              since=date_since).items(1000)\n",
    "users_locs = [[tweet.user.screen_name, tweet.user.location, tweet.text] for tweet in tweets]\n",
    "tweet_text = pd.DataFrame(data=users_locs, \n",
    "                    columns=['user', \"location\" , \"tweet\"])\n",
    "tweet_text.to_csv(\"corona.csv\")"
   ]
  },
  {
   "cell_type": "code",
   "execution_count": 8,
   "metadata": {},
   "outputs": [
    {
     "data": {
      "text/html": [
       "<div>\n",
       "<style scoped>\n",
       "    .dataframe tbody tr th:only-of-type {\n",
       "        vertical-align: middle;\n",
       "    }\n",
       "\n",
       "    .dataframe tbody tr th {\n",
       "        vertical-align: top;\n",
       "    }\n",
       "\n",
       "    .dataframe thead th {\n",
       "        text-align: right;\n",
       "    }\n",
       "</style>\n",
       "<table border=\"1\" class=\"dataframe\">\n",
       "  <thead>\n",
       "    <tr style=\"text-align: right;\">\n",
       "      <th></th>\n",
       "      <th>Unnamed: 0</th>\n",
       "      <th>user</th>\n",
       "      <th>location</th>\n",
       "      <th>tweet</th>\n",
       "    </tr>\n",
       "  </thead>\n",
       "  <tbody>\n",
       "    <tr>\n",
       "      <th>0</th>\n",
       "      <td>0</td>\n",
       "      <td>MukasaAMaat</td>\n",
       "      <td>Deep State</td>\n",
       "      <td>RT @DrEricDing: 📍OUTBREAK OF #B117 AT SEVEN SC...</td>\n",
       "    </tr>\n",
       "    <tr>\n",
       "      <th>1</th>\n",
       "      <td>1</td>\n",
       "      <td>mukta_rahman</td>\n",
       "      <td>NaN</td>\n",
       "      <td>RT @albd1971: Public Message from DGHS, Minist...</td>\n",
       "    </tr>\n",
       "    <tr>\n",
       "      <th>2</th>\n",
       "      <td>2</td>\n",
       "      <td>DixieYoungBeer</td>\n",
       "      <td>Ohio, USA</td>\n",
       "      <td>RT @DrGJackBrown: Tomorrow, in DC, @JoeBiden w...</td>\n",
       "    </tr>\n",
       "    <tr>\n",
       "      <th>3</th>\n",
       "      <td>3</td>\n",
       "      <td>ongare_winnie</td>\n",
       "      <td>Mombasa</td>\n",
       "      <td>RT @antonioguterres: I renew my call for a glo...</td>\n",
       "    </tr>\n",
       "    <tr>\n",
       "      <th>4</th>\n",
       "      <td>4</td>\n",
       "      <td>themainepain</td>\n",
       "      <td>NaN</td>\n",
       "      <td>RT @bern_identity: Nice for POTUS to hold a mo...</td>\n",
       "    </tr>\n",
       "    <tr>\n",
       "      <th>...</th>\n",
       "      <td>...</td>\n",
       "      <td>...</td>\n",
       "      <td>...</td>\n",
       "      <td>...</td>\n",
       "    </tr>\n",
       "    <tr>\n",
       "      <th>195</th>\n",
       "      <td>195</td>\n",
       "      <td>atulabraham3</td>\n",
       "      <td>india,maharastra</td>\n",
       "      <td>RT @mathrubhumieng: Karnataka violates unlock ...</td>\n",
       "    </tr>\n",
       "    <tr>\n",
       "      <th>196</th>\n",
       "      <td>196</td>\n",
       "      <td>SChs420</td>\n",
       "      <td>NaN</td>\n",
       "      <td>RT @AdityaINCUP: If any student of AKTU gets i...</td>\n",
       "    </tr>\n",
       "    <tr>\n",
       "      <th>197</th>\n",
       "      <td>197</td>\n",
       "      <td>Manish95122679</td>\n",
       "      <td>NaN</td>\n",
       "      <td>RT @sudarsansand: Protection against #COVID19 ...</td>\n",
       "    </tr>\n",
       "    <tr>\n",
       "      <th>198</th>\n",
       "      <td>198</td>\n",
       "      <td>frankkuipers2</td>\n",
       "      <td>NaN</td>\n",
       "      <td>RT @DrGJackBrown: Tomorrow, in DC, @JoeBiden w...</td>\n",
       "    </tr>\n",
       "    <tr>\n",
       "      <th>199</th>\n",
       "      <td>199</td>\n",
       "      <td>sillymickel</td>\n",
       "      <td>Eugene, OR</td>\n",
       "      <td>when untruth has turned evil\\n\\nbrutally evil\\...</td>\n",
       "    </tr>\n",
       "  </tbody>\n",
       "</table>\n",
       "<p>200 rows × 4 columns</p>\n",
       "</div>"
      ],
      "text/plain": [
       "     Unnamed: 0            user          location  \\\n",
       "0             0     MukasaAMaat        Deep State   \n",
       "1             1    mukta_rahman               NaN   \n",
       "2             2  DixieYoungBeer         Ohio, USA   \n",
       "3             3   ongare_winnie          Mombasa    \n",
       "4             4    themainepain               NaN   \n",
       "..          ...             ...               ...   \n",
       "195         195    atulabraham3  india,maharastra   \n",
       "196         196         SChs420               NaN   \n",
       "197         197  Manish95122679               NaN   \n",
       "198         198   frankkuipers2               NaN   \n",
       "199         199     sillymickel        Eugene, OR   \n",
       "\n",
       "                                                 tweet  \n",
       "0    RT @DrEricDing: 📍OUTBREAK OF #B117 AT SEVEN SC...  \n",
       "1    RT @albd1971: Public Message from DGHS, Minist...  \n",
       "2    RT @DrGJackBrown: Tomorrow, in DC, @JoeBiden w...  \n",
       "3    RT @antonioguterres: I renew my call for a glo...  \n",
       "4    RT @bern_identity: Nice for POTUS to hold a mo...  \n",
       "..                                                 ...  \n",
       "195  RT @mathrubhumieng: Karnataka violates unlock ...  \n",
       "196  RT @AdityaINCUP: If any student of AKTU gets i...  \n",
       "197  RT @sudarsansand: Protection against #COVID19 ...  \n",
       "198  RT @DrGJackBrown: Tomorrow, in DC, @JoeBiden w...  \n",
       "199  when untruth has turned evil\\n\\nbrutally evil\\...  \n",
       "\n",
       "[200 rows x 4 columns]"
      ]
     },
     "execution_count": 8,
     "metadata": {},
     "output_type": "execute_result"
    }
   ],
   "source": [
    "csv_data = pd.read_csv(\"corona.csv\")\n",
    "csv_data"
   ]
  },
  {
   "cell_type": "code",
   "execution_count": 9,
   "metadata": {},
   "outputs": [],
   "source": [
    "for tweet in tweets:\n",
    "    print('{tweet}\\n\\n'.format( tweet=tweet.text))"
   ]
  },
  {
   "cell_type": "code",
   "execution_count": 11,
   "metadata": {},
   "outputs": [
    {
     "name": "stdout",
     "output_type": "stream",
     "text": [
      "Requirement already satisfied: TextBlob in ./anaconda3/lib/python3.8/site-packages (0.15.3)\n",
      "Requirement already satisfied: nltk>=3.1 in ./anaconda3/lib/python3.8/site-packages (from TextBlob) (3.5)\n",
      "Requirement already satisfied: regex in ./anaconda3/lib/python3.8/site-packages (from nltk>=3.1->TextBlob) (2020.10.15)\n",
      "Requirement already satisfied: tqdm in ./anaconda3/lib/python3.8/site-packages (from nltk>=3.1->TextBlob) (4.50.2)\n",
      "Requirement already satisfied: click in ./anaconda3/lib/python3.8/site-packages (from nltk>=3.1->TextBlob) (7.1.2)\n",
      "Requirement already satisfied: joblib in ./anaconda3/lib/python3.8/site-packages (from nltk>=3.1->TextBlob) (0.17.0)\n"
     ]
    }
   ],
   "source": [
    "import sys , csv , re\n",
    "!pip install TextBlob\n",
    "from textblob import TextBlob\n",
    "import matplotlib.pyplot as plt"
   ]
  },
  {
   "cell_type": "code",
   "execution_count": 12,
   "metadata": {},
   "outputs": [
    {
     "name": "stdout",
     "output_type": "stream",
     "text": [
      "0      RT @DrEricDing: 📍OUTBREAK OF #B117 AT SEVEN SC...\n",
      "1      RT @albd1971: Public Message from DGHS, Minist...\n",
      "2      RT @DrGJackBrown: Tomorrow, in DC, @JoeBiden w...\n",
      "3      RT @antonioguterres: I renew my call for a glo...\n",
      "4      RT @bern_identity: Nice for POTUS to hold a mo...\n",
      "                             ...                        \n",
      "195    RT @mathrubhumieng: Karnataka violates unlock ...\n",
      "196    RT @AdityaINCUP: If any student of AKTU gets i...\n",
      "197    RT @sudarsansand: Protection against #COVID19 ...\n",
      "198    RT @DrGJackBrown: Tomorrow, in DC, @JoeBiden w...\n",
      "199    when untruth has turned evil\\n\\nbrutally evil\\...\n",
      "Name: tweet, Length: 200, dtype: object\n"
     ]
    }
   ],
   "source": [
    "print(csv_data['tweet'])"
   ]
  },
  {
   "cell_type": "code",
   "execution_count": 13,
   "metadata": {},
   "outputs": [],
   "source": [
    "import tweepy as tw\n",
    "import pandas as pd\n",
    "import folium\n",
    "from folium.plugins import MarkerCluster\n",
    "from geopy.geocoders import Nominatim\n",
    "from pycountry_convert import country_alpha2_to_continent_code, country_name_to_country_alpha2\n",
    "\n",
    "class SentimentAnalysis:\n",
    "    \n",
    "    def __init__(self):\n",
    "        self.tweets = []\n",
    "        self.tweetText = []\n",
    "    \n",
    "    \n",
    "    def DownloadData(self):       \n",
    "        consumer_key = \"UODXYhgdi5iSUkb8B3BIludZ0\"\n",
    "        consumer_secret = \"JxXDM9xoSjFGXlsWWPRLFGcHeahOKpx7W9uAKWsM0BVHOhyN8f\"\n",
    "        access_token = \"964513788606189570-oIVsHe3QKcReJDE3Z2lSiFjga9CTcUc\"\n",
    "        access_secret_token = \"mQzFGI4dIfftUGbzND5ZB67ddCkZfYMFMtG0OsoamDyVi\"\n",
    "        auth = tw.OAuthHandler(consumer_key, consumer_secret)\n",
    "        auth.set_access_token(access_token, access_secret_token)\n",
    "        api = tw.API(auth)\n",
    "        search_words = \"#corona\"\n",
    "        date_since = \"2020-01-1\"\n",
    "        NoOfTerms = 100\n",
    "        tweets = tw.Cursor(api.search,q=search_words,lang=\"en\",since=date_since).items(NoOfTerms)\n",
    "        users_locs = [[tweet.user.screen_name, tweet.user.location, tweet.text] for tweet in tweets]\n",
    "        tweet_text = pd.DataFrame(data=users_locs, columns=['user', \"location\" , \"tweet\"])\n",
    "        tweet_text.to_csv(\"corona.csv\")\n",
    "        data = pd.read_csv(\"./corona.csv\",engine=\"python\")\n",
    "        \n",
    "        geolocator = Nominatim(user_agent=\"myapp\")\n",
    "        world_map= folium.Map(tiles=\"cartodbpositron\")\n",
    "        marker_cluster = MarkerCluster().add_to(world_map)\n",
    "        polarity = 0\n",
    "        positive = 0\n",
    "        wpositive = 0\n",
    "        spositive = 0\n",
    "        negative = 0\n",
    "        wnegative = 0\n",
    "        snegative = 0\n",
    "        neutral = 0\n",
    "        for i in range(NoOfTerms):\n",
    "            tweetText = data.loc[i,['tweet']].tweet\n",
    "            tweetloc = data.loc[i,['location']].location\n",
    "            try:\n",
    "                location = geolocator.geocode(tweetloc)\n",
    "                lat = location.latitude\n",
    "                long = location.longitude\n",
    "            except:\n",
    "                lat =47.470706\n",
    "                long = -99.704723\n",
    "            radius=2\n",
    "            \n",
    "            analysis = TextBlob(tweetText)\n",
    "            polarity += analysis.sentiment.polarity\n",
    "            if (analysis.sentiment.polarity == 0):  # adding reaction of how people are reacting to find average later\n",
    "                neutral += 1\n",
    "                folium.CircleMarker(location = [lat, long], radius=radius,color='yellow', fill =True).add_to(world_map)\n",
    "            elif (analysis.sentiment.polarity > 0 and analysis.sentiment.polarity <= 0.3):\n",
    "                wpositive += 1\n",
    "                folium.CircleMarker(location = [lat, long], radius=radius,color='green', fill =True).add_to(world_map)\n",
    "            elif (analysis.sentiment.polarity > 0.3 and analysis.sentiment.polarity <= 0.6):\n",
    "                positive += 1\n",
    "                folium.CircleMarker(location = [lat, long], radius=radius,color='red', fill =True).add_to(world_map)\n",
    "            elif (analysis.sentiment.polarity > 0.6 and analysis.sentiment.polarity <= 1):\n",
    "                spositive += 1\n",
    "                folium.CircleMarker(location = [lat, long], radius=radius,color='blue', fill =True).add_to(world_map)\n",
    "            elif (analysis.sentiment.polarity > -0.3 and analysis.sentiment.polarity <= 0):\n",
    "                wnegative += 1\n",
    "                folium.CircleMarker(location = [lat, long], radius=radius,color='black', fill =True).add_to(world_map)\n",
    "            elif (analysis.sentiment.polarity > -0.6 and analysis.sentiment.polarity <= -0.3):\n",
    "                negative += 1\n",
    "                folium.CircleMarker(location = [lat, long], radius=radius,color='cyan', fill =True).add_to(world_map)\n",
    "            elif (analysis.sentiment.polarity > -1 and analysis.sentiment.polarity <= -0.6):\n",
    "                snegative += 1 \n",
    "                folium.CircleMarker(location = [lat, long], radius=radius,color='voilet', fill =True).add_to(world_map)\n",
    "            \n",
    "        plot(world_map)\n",
    "        \n",
    "            \n",
    "    def get_continent(col):\n",
    "        try:\n",
    "            cn_a2_code =  country_name_to_country_alpha2(col)\n",
    "        except:\n",
    "            cn_a2_code = 'Unknown'\n",
    "        try:\n",
    "            cn_continent = country_alpha2_to_continent_code(cn_a2_code)\n",
    "        except:\n",
    "            cn_continent = 'Unknown' \n",
    "        return (cn_a2_code, cn_continent)\n",
    "            \n",
    "        \n",
    "    def geolocate(country):\n",
    "        try:\n",
    "        # Geolocate the center of the country\n",
    "            loc = geolocator.geocode(country)\n",
    "        # And return latitude and longitude\n",
    "            return (loc.latitude, loc.longitude)\n",
    "        except:\n",
    "        # Return missing value\n",
    "            return (22.3511148 ,78.6677428)\n",
    "    \n",
    "            \n",
    "        \n",
    "    def cleanTweet(self,tweet):\n",
    "        # Remove Links, Special Characters etc from tweet\n",
    "        return ' '.join(re.sub(\"(@[A-Za-z0-9]+)|([^0-9A-Za-z \\t]) | (\\w +:\\ / \\ / \\S +)\", \" \", tweet).split())\n",
    "\n",
    "    \n",
    "    \n",
    "    def percentage(self, part, whole):\n",
    "        temp = 100 * float(part) / float(whole)\n",
    "        return format(temp, '.2f')\n",
    "\n",
    "    \n",
    "    def plotPieChart(self, positive, wpositive, spositive, negative, wnegative, snegative, neutral, searchTerm, NoOfTerms):\n",
    "        labels = ['Positive [' + str(positive) + '%]', 'Weakly Positive [' + str(wpositive) + '%]','Strongly Positive [' + str(spositive) + '%]', 'Neutral [' + str(neutral) + '%]',\n",
    "                  'Negative [' + str(negative) + '%]', 'Weakly Negative [' + str(wnegative) + '%]', 'Strongly Negative [' + str(snegative) + '%]']\n",
    "        sizes = [positive, wpositive, spositive, neutral, negative, wnegative, snegative]\n",
    "        colors = ['yellowgreen','lightgreen','darkgreen', 'gold', 'red','lightsalmon','darkred']\n",
    "        patches, texts = plt.pie(sizes, colors=colors, startangle=90)\n",
    "        plt.legend(patches, labels, loc=\"best\")\n",
    "        plt.title('How people are reacting on ' + search_words + ' by analyzing ' + str(NoOfTerms) + ' Tweets.')\n",
    "        plt.axis('equal')\n",
    "        plt.tight_layout()\n",
    "        plt.show()\n",
    "        \n"
   ]
  },
  {
   "cell_type": "code",
   "execution_count": 14,
   "metadata": {},
   "outputs": [
    {
     "ename": "NameError",
     "evalue": "name 'plot' is not defined",
     "output_type": "error",
     "traceback": [
      "\u001b[0;31m---------------------------------------------------------------------------\u001b[0m",
      "\u001b[0;31mNameError\u001b[0m                                 Traceback (most recent call last)",
      "\u001b[0;32m<ipython-input-14-f891c525748f>\u001b[0m in \u001b[0;36m<module>\u001b[0;34m\u001b[0m\n\u001b[1;32m      1\u001b[0m \u001b[0msa\u001b[0m \u001b[0;34m=\u001b[0m \u001b[0mSentimentAnalysis\u001b[0m\u001b[0;34m(\u001b[0m\u001b[0;34m)\u001b[0m\u001b[0;34m\u001b[0m\u001b[0;34m\u001b[0m\u001b[0m\n\u001b[0;32m----> 2\u001b[0;31m \u001b[0msa\u001b[0m\u001b[0;34m.\u001b[0m\u001b[0mDownloadData\u001b[0m\u001b[0;34m(\u001b[0m\u001b[0;34m)\u001b[0m\u001b[0;34m\u001b[0m\u001b[0;34m\u001b[0m\u001b[0m\n\u001b[0m",
      "\u001b[0;32m<ipython-input-13-f6aa7ecc096c>\u001b[0m in \u001b[0;36mDownloadData\u001b[0;34m(self)\u001b[0m\n\u001b[1;32m     77\u001b[0m                 \u001b[0mfolium\u001b[0m\u001b[0;34m.\u001b[0m\u001b[0mCircleMarker\u001b[0m\u001b[0;34m(\u001b[0m\u001b[0mlocation\u001b[0m \u001b[0;34m=\u001b[0m \u001b[0;34m[\u001b[0m\u001b[0mlat\u001b[0m\u001b[0;34m,\u001b[0m \u001b[0mlong\u001b[0m\u001b[0;34m]\u001b[0m\u001b[0;34m,\u001b[0m \u001b[0mradius\u001b[0m\u001b[0;34m=\u001b[0m\u001b[0mradius\u001b[0m\u001b[0;34m,\u001b[0m\u001b[0mcolor\u001b[0m\u001b[0;34m=\u001b[0m\u001b[0;34m'voilet'\u001b[0m\u001b[0;34m,\u001b[0m \u001b[0mfill\u001b[0m \u001b[0;34m=\u001b[0m\u001b[0;32mTrue\u001b[0m\u001b[0;34m)\u001b[0m\u001b[0;34m.\u001b[0m\u001b[0madd_to\u001b[0m\u001b[0;34m(\u001b[0m\u001b[0mworld_map\u001b[0m\u001b[0;34m)\u001b[0m\u001b[0;34m\u001b[0m\u001b[0;34m\u001b[0m\u001b[0m\n\u001b[1;32m     78\u001b[0m \u001b[0;34m\u001b[0m\u001b[0m\n\u001b[0;32m---> 79\u001b[0;31m         \u001b[0mplot\u001b[0m\u001b[0;34m(\u001b[0m\u001b[0mworld_map\u001b[0m\u001b[0;34m)\u001b[0m\u001b[0;34m\u001b[0m\u001b[0;34m\u001b[0m\u001b[0m\n\u001b[0m\u001b[1;32m     80\u001b[0m \u001b[0;34m\u001b[0m\u001b[0m\n\u001b[1;32m     81\u001b[0m \u001b[0;34m\u001b[0m\u001b[0m\n",
      "\u001b[0;31mNameError\u001b[0m: name 'plot' is not defined"
     ]
    }
   ],
   "source": [
    "sa = SentimentAnalysis()\n",
    "sa.DownloadData()"
   ]
  },
  {
   "cell_type": "code",
   "execution_count": 176,
   "metadata": {},
   "outputs": [
    {
     "ename": "AttributeError",
     "evalue": "'SentimentAnalysis' object has no attribute 'world_map'",
     "output_type": "error",
     "traceback": [
      "\u001b[0;31m---------------------------------------------------------------------------\u001b[0m",
      "\u001b[0;31mAttributeError\u001b[0m                            Traceback (most recent call last)",
      "\u001b[0;32m<ipython-input-176-fc3c7037a435>\u001b[0m in \u001b[0;36m<module>\u001b[0;34m\u001b[0m\n\u001b[0;32m----> 1\u001b[0;31m \u001b[0msa\u001b[0m\u001b[0;34m.\u001b[0m\u001b[0mworld_map\u001b[0m\u001b[0;34m\u001b[0m\u001b[0;34m\u001b[0m\u001b[0m\n\u001b[0m",
      "\u001b[0;31mAttributeError\u001b[0m: 'SentimentAnalysis' object has no attribute 'world_map'"
     ]
    }
   ],
   "source": [
    "sa.world_map"
   ]
  },
  {
   "cell_type": "code",
   "execution_count": 15,
   "metadata": {},
   "outputs": [],
   "source": [
    "consumer_key = \"UODXYhgdi5iSUkb8B3BIludZ0\"\n",
    "consumer_secret = \"JxXDM9xoSjFGXlsWWPRLFGcHeahOKpx7W9uAKWsM0BVHOhyN8f\"\n",
    "access_token = \"964513788606189570-oIVsHe3QKcReJDE3Z2lSiFjga9CTcUc\"\n",
    "access_secret_token = \"mQzFGI4dIfftUGbzND5ZB67ddCkZfYMFMtG0OsoamDyVi\"\n",
    "auth = tw.OAuthHandler(consumer_key, consumer_secret)\n",
    "auth.set_access_token(access_token, access_secret_token)\n",
    "api = tw.API(auth)\n",
    "search_words = \"corona\"\n",
    "date_since = \"2020-01-1\"\n",
    "NoOfTerms = 500\n",
    "tweets = tw.Cursor(api.search,q=\"coronavirus\"and \"corona\" and \"covid-19\",lang=\"en\",since=date_since,).items(NoOfTerms)\n",
    "users_locs = [[tweet.user.screen_name, tweet.user.location, tweet.text] for tweet in tweets]\n",
    "tweet_text = pd.DataFrame(data=users_locs, columns=['user', \"location\" , \"tweet\"])\n",
    "tweet_text.to_csv(\"corona.csv\")\n",
    "data = pd.read_csv(\"./corona.csv\",engine=\"python\")\n",
    "geolocator = Nominatim(user_agent=\"myapp\")\n",
    "world_map= folium.Map(tiles=\"cartodbpositron\")\n",
    "marker_cluster = MarkerCluster().add_to(world_map)\n",
    "\n",
    "polarity = 0\n",
    "positive = 0\n",
    "wpositive = 0\n",
    "spositive = 0\n",
    "negative = 0\n",
    "wnegative = 0\n",
    "snegative = 0\n",
    "neutral = 0\n",
    "for i in range(NoOfTerms):\n",
    "    tweetText = data.loc[i,['tweet']].tweet\n",
    "    tweetloc = data.loc[i,['location']].location\n",
    "    try:\n",
    "        location = geolocator.geocode(tweetloc)\n",
    "        lat = location.latitude\n",
    "        long = location.longitude\n",
    "    except:\n",
    "        lat =47.470706\n",
    "        long = -99.704723\n",
    "    radius=2\n",
    "\n",
    "    analysis = TextBlob(tweetText)\n",
    "    polarity += analysis.sentiment.polarity\n",
    "    if (analysis.sentiment.polarity == 0):  # adding reaction of how people are reacting to find average later\n",
    "        neutral += 1\n",
    "        folium.CircleMarker(location = [lat, long], radius=radius,color='yellow', fill =True).add_to(world_map)\n",
    "    elif (analysis.sentiment.polarity > 0 and analysis.sentiment.polarity <= 0.3):\n",
    "        wpositive += 1\n",
    "        folium.CircleMarker(location = [lat, long], radius=radius,color='green', fill =True).add_to(world_map)\n",
    "    elif (analysis.sentiment.polarity > 0.3 and analysis.sentiment.polarity <= 0.6):\n",
    "        positive += 1\n",
    "        folium.CircleMarker(location = [lat, long], radius=radius,color='red', fill =True).add_to(world_map)\n",
    "    elif (analysis.sentiment.polarity > 0.6 and analysis.sentiment.polarity <= 1):\n",
    "        spositive += 1\n",
    "        folium.CircleMarker(location = [lat, long], radius=radius,color='blue', fill =True).add_to(world_map)\n",
    "    elif (analysis.sentiment.polarity > -0.3 and analysis.sentiment.polarity <= 0):\n",
    "        wnegative += 1\n",
    "        folium.CircleMarker(location = [lat, long], radius=radius,color='black', fill =True).add_to(world_map)\n",
    "    elif (analysis.sentiment.polarity > -0.6 and analysis.sentiment.polarity <= -0.3):\n",
    "        negative += 1\n",
    "        folium.CircleMarker(location = [lat, long], radius=radius,color='cyan', fill =True).add_to(world_map)\n",
    "    elif (analysis.sentiment.polarity > -1 and analysis.sentiment.polarity <= -0.6):\n",
    "        snegative += 1 \n",
    "        folium.CircleMarker(location = [lat, long], radius=radius,color='voilet', fill =True).add_to(world_map)\n",
    "\n",
    "        "
   ]
  },
  {
   "cell_type": "code",
   "execution_count": 22,
   "metadata": {},
   "outputs": [
    {
     "ename": "NameError",
     "evalue": "name 'patches' is not defined",
     "output_type": "error",
     "traceback": [
      "\u001b[0;31m---------------------------------------------------------------------------\u001b[0m",
      "\u001b[0;31mNameError\u001b[0m                                 Traceback (most recent call last)",
      "\u001b[0;32m<ipython-input-22-48374b9acf5e>\u001b[0m in \u001b[0;36m<module>\u001b[0;34m\u001b[0m\n\u001b[1;32m      2\u001b[0m \u001b[0msizes\u001b[0m \u001b[0;34m=\u001b[0m \u001b[0;34m[\u001b[0m\u001b[0mpositive\u001b[0m\u001b[0;34m,\u001b[0m \u001b[0mwpositive\u001b[0m\u001b[0;34m,\u001b[0m \u001b[0mspositive\u001b[0m\u001b[0;34m,\u001b[0m \u001b[0mneutral\u001b[0m\u001b[0;34m,\u001b[0m \u001b[0mnegative\u001b[0m\u001b[0;34m,\u001b[0m \u001b[0mwnegative\u001b[0m\u001b[0;34m,\u001b[0m \u001b[0msnegative\u001b[0m\u001b[0;34m]\u001b[0m\u001b[0;34m\u001b[0m\u001b[0;34m\u001b[0m\u001b[0m\n\u001b[1;32m      3\u001b[0m \u001b[0mcolors\u001b[0m \u001b[0;34m=\u001b[0m \u001b[0;34m[\u001b[0m\u001b[0;34m'yellowgreen'\u001b[0m\u001b[0;34m,\u001b[0m\u001b[0;34m'lightgreen'\u001b[0m\u001b[0;34m,\u001b[0m\u001b[0;34m'darkgreen'\u001b[0m\u001b[0;34m,\u001b[0m \u001b[0;34m'gold'\u001b[0m\u001b[0;34m,\u001b[0m \u001b[0;34m'red'\u001b[0m\u001b[0;34m,\u001b[0m\u001b[0;34m'lightsalmon'\u001b[0m\u001b[0;34m,\u001b[0m\u001b[0;34m'darkred'\u001b[0m\u001b[0;34m]\u001b[0m\u001b[0;34m\u001b[0m\u001b[0;34m\u001b[0m\u001b[0m\n\u001b[0;32m----> 4\u001b[0;31m \u001b[0mplt\u001b[0m\u001b[0;34m.\u001b[0m\u001b[0mlegend\u001b[0m\u001b[0;34m(\u001b[0m\u001b[0mpatches\u001b[0m\u001b[0;34m,\u001b[0m \u001b[0mlabels\u001b[0m\u001b[0;34m,\u001b[0m \u001b[0mloc\u001b[0m\u001b[0;34m=\u001b[0m\u001b[0;34m\"best\"\u001b[0m\u001b[0;34m)\u001b[0m\u001b[0;34m\u001b[0m\u001b[0;34m\u001b[0m\u001b[0m\n\u001b[0m",
      "\u001b[0;31mNameError\u001b[0m: name 'patches' is not defined"
     ]
    }
   ],
   "source": [
    "world_map\n"
   ]
  },
  {
   "cell_type": "code",
   "execution_count": 19,
   "metadata": {},
   "outputs": [
    {
     "data": {
      "image/png": "[encoded data removed]",
      "text/plain": [
       "<Figure size 432x288 with 1 Axes>"
      ]
     },
     "metadata": {},
     "output_type": "display_data"
    }
   ],
   "source": [
    " def plotPieChart( positive, wpositive, spositive, negative, wnegative, snegative, neutral, searchTerm, noOfSearchTerms):\n",
    "        labels = ['Positive [' + str(positive) + '%]', 'Weakly Positive [' + str(wpositive) + '%]','Strongly Positive [' + str(spositive) + '%]', 'Neutral [' + str(neutral) + '%]',\n",
    "                  'Negative [' + str(negative) + '%]', 'Weakly Negative [' + str(wnegative) + '%]', 'Strongly Negative [' + str(snegative) + '%]']\n",
    "        sizes = [positive, wpositive, spositive, neutral, negative, wnegative, snegative]\n",
    "        colors = ['yellowgreen','lightgreen','darkgreen', 'gold', 'red','lightsalmon','darkred']\n",
    "        patches, texts = plt.pie(sizes, colors=colors, startangle=90)\n",
    "        plt.legend(patches, labels, loc=\"best\")\n",
    "        plt.title('How people are reacting on ' + searchTerm + ' by analyzing ' + str(noOfSearchTerms) + ' Tweets.')\n",
    "        plt.axis('equal')\n",
    "        plt.tight_layout()\n",
    "        plt.show()\n",
    "plotPieChart(positive, wpositive, spositive, negative, wnegative, snegative, neutral, search_words, NoOfTerms)"
   ]
  },
  {
   "cell_type": "code",
   "execution_count": 30,
   "metadata": {},
   "outputs": [
    {
     "data": {
      "application/vnd.plotly.v1+json": {
       "config": {
        "plotlyServerURL": "https://plot.ly"
       },
       "data": [
        {
         "name": "Neutral",
         "type": "bar",
         "width": 0.1,
         "x": [
          "USA",
          "IND",
          "UK"
         ],
         "y": [
          20,
          65,
          16
         ]
        },
        {
         "name": "positive",
         "type": "bar",
         "width": 0.1,
         "x": [
          "USA",
          "IND",
          "UK"
         ],
         "y": [
          50,
          39,
          27
         ]
        },
        {
         "name": "Negative",
         "type": "bar",
         "width": 0.1,
         "x": [
          "USA",
          "IND",
          "UK"
         ],
         "y": [
          30,
          23,
          41
         ]
        }
       ],
       "layout": {
        "barmode": "stack",
        "colorway": [
         "yellow",
         "green",
         "red"
        ],
        "template": {
         "data": {
          "bar": [
           {
            "error_x": {
             "color": "#2a3f5f"
            },
            "error_y": {
             "color": "#2a3f5f"
            },
            "marker": {
             "line": {
              "color": "#E5ECF6",
              "width": 0.5
             }
            },
            "type": "bar"
           }
          ],
          "barpolar": [
           {
            "marker": {
             "line": {
              "color": "#E5ECF6",
              "width": 0.5
             }
            },
            "type": "barpolar"
           }
          ],
          "carpet": [
           {
            "aaxis": {
             "endlinecolor": "#2a3f5f",
             "gridcolor": "white",
             "linecolor": "white",
             "minorgridcolor": "white",
             "startlinecolor": "#2a3f5f"
            },
            "baxis": {
             "endlinecolor": "#2a3f5f",
             "gridcolor": "white",
             "linecolor": "white",
             "minorgridcolor": "white",
             "startlinecolor": "#2a3f5f"
            },
            "type": "carpet"
           }
          ],
          "choropleth": [
           {
            "colorbar": {
             "outlinewidth": 0,
             "ticks": ""
            },
            "type": "choropleth"
           }
          ],
          "contour": [
           {
            "colorbar": {
             "outlinewidth": 0,
             "ticks": ""
            },
            "colorscale": [
             [
              0,
              "#0d0887"
             ],
             [
              0.1111111111111111,
              "#46039f"
             ],
             [
              0.2222222222222222,
              "#7201a8"
             ],
             [
              0.3333333333333333,
              "#9c179e"
             ],
             [
              0.4444444444444444,
              "#bd3786"
             ],
             [
              0.5555555555555556,
              "#d8576b"
             ],
             [
              0.6666666666666666,
              "#ed7953"
             ],
             [
              0.7777777777777778,
              "#fb9f3a"
             ],
             [
              0.8888888888888888,
              "#fdca26"
             ],
             [
              1,
              "#f0f921"
             ]
            ],
            "type": "contour"
           }
          ],
          "contourcarpet": [
           {
            "colorbar": {
             "outlinewidth": 0,
             "ticks": ""
            },
            "type": "contourcarpet"
           }
          ],
          "heatmap": [
           {
            "colorbar": {
             "outlinewidth": 0,
             "ticks": ""
            },
            "colorscale": [
             [
              0,
              "#0d0887"
             ],
             [
              0.1111111111111111,
              "#46039f"
             ],
             [
              0.2222222222222222,
              "#7201a8"
             ],
             [
              0.3333333333333333,
              "#9c179e"
             ],
             [
              0.4444444444444444,
              "#bd3786"
             ],
             [
              0.5555555555555556,
              "#d8576b"
             ],
             [
              0.6666666666666666,
              "#ed7953"
             ],
             [
              0.7777777777777778,
              "#fb9f3a"
             ],
             [
              0.8888888888888888,
              "#fdca26"
             ],
             [
              1,
              "#f0f921"
             ]
            ],
            "type": "heatmap"
           }
          ],
          "heatmapgl": [
           {
            "colorbar": {
             "outlinewidth": 0,
             "ticks": ""
            },
            "colorscale": [
             [
              0,
              "#0d0887"
             ],
             [
              0.1111111111111111,
              "#46039f"
             ],
             [
              0.2222222222222222,
              "#7201a8"
             ],
             [
              0.3333333333333333,
              "#9c179e"
             ],
             [
              0.4444444444444444,
              "#bd3786"
             ],
             [
              0.5555555555555556,
              "#d8576b"
             ],
             [
              0.6666666666666666,
              "#ed7953"
             ],
             [
              0.7777777777777778,
              "#fb9f3a"
             ],
             [
              0.8888888888888888,
              "#fdca26"
             ],
             [
              1,
              "#f0f921"
             ]
            ],
            "type": "heatmapgl"
           }
          ],
          "histogram": [
           {
            "marker": {
             "colorbar": {
              "outlinewidth": 0,
              "ticks": ""
             }
            },
            "type": "histogram"
           }
          ],
          "histogram2d": [
           {
            "colorbar": {
             "outlinewidth": 0,
             "ticks": ""
            },
            "colorscale": [
             [
              0,
              "#0d0887"
             ],
             [
              0.1111111111111111,
              "#46039f"
             ],
             [
              0.2222222222222222,
              "#7201a8"
             ],
             [
              0.3333333333333333,
              "#9c179e"
             ],
             [
              0.4444444444444444,
              "#bd3786"
             ],
             [
              0.5555555555555556,
              "#d8576b"
             ],
             [
              0.6666666666666666,
              "#ed7953"
             ],
             [
              0.7777777777777778,
              "#fb9f3a"
             ],
             [
              0.8888888888888888,
              "#fdca26"
             ],
             [
              1,
              "#f0f921"
             ]
            ],
            "type": "histogram2d"
           }
          ],
          "histogram2dcontour": [
           {
            "colorbar": {
             "outlinewidth": 0,
             "ticks": ""
            },
            "colorscale": [
             [
              0,
              "#0d0887"
             ],
             [
              0.1111111111111111,
              "#46039f"
             ],
             [
              0.2222222222222222,
              "#7201a8"
             ],
             [
              0.3333333333333333,
              "#9c179e"
             ],
             [
              0.4444444444444444,
              "#bd3786"
             ],
             [
              0.5555555555555556,
              "#d8576b"
             ],
             [
              0.6666666666666666,
              "#ed7953"
             ],
             [
              0.7777777777777778,
              "#fb9f3a"
             ],
             [
              0.8888888888888888,
              "#fdca26"
             ],
             [
              1,
              "#f0f921"
             ]
            ],
            "type": "histogram2dcontour"
           }
          ],
          "mesh3d": [
           {
            "colorbar": {
             "outlinewidth": 0,
             "ticks": ""
            },
            "type": "mesh3d"
           }
          ],
          "parcoords": [
           {
            "line": {
             "colorbar": {
              "outlinewidth": 0,
              "ticks": ""
             }
            },
            "type": "parcoords"
           }
          ],
          "pie": [
           {
            "automargin": true,
            "type": "pie"
           }
          ],
          "scatter": [
           {
            "marker": {
             "colorbar": {
              "outlinewidth": 0,
              "ticks": ""
             }
            },
            "type": "scatter"
           }
          ],
          "scatter3d": [
           {
            "line": {
             "colorbar": {
              "outlinewidth": 0,
              "ticks": ""
             }
            },
            "marker": {
             "colorbar": {
              "outlinewidth": 0,
              "ticks": ""
             }
            },
            "type": "scatter3d"
           }
          ],
          "scattercarpet": [
           {
            "marker": {
             "colorbar": {
              "outlinewidth": 0,
              "ticks": ""
             }
            },
            "type": "scattercarpet"
           }
          ],
          "scattergeo": [
           {
            "marker": {
             "colorbar": {
              "outlinewidth": 0,
              "ticks": ""
             }
            },
            "type": "scattergeo"
           }
          ],
          "scattergl": [
           {
            "marker": {
             "colorbar": {
              "outlinewidth": 0,
              "ticks": ""
             }
            },
            "type": "scattergl"
           }
          ],
          "scattermapbox": [
           {
            "marker": {
             "colorbar": {
              "outlinewidth": 0,
              "ticks": ""
             }
            },
            "type": "scattermapbox"
           }
          ],
          "scatterpolar": [
           {
            "marker": {
             "colorbar": {
              "outlinewidth": 0,
              "ticks": ""
             }
            },
            "type": "scatterpolar"
           }
          ],
          "scatterpolargl": [
           {
            "marker": {
             "colorbar": {
              "outlinewidth": 0,
              "ticks": ""
             }
            },
            "type": "scatterpolargl"
           }
          ],
          "scatterternary": [
           {
            "marker": {
             "colorbar": {
              "outlinewidth": 0,
              "ticks": ""
             }
            },
            "type": "scatterternary"
           }
          ],
          "surface": [
           {
            "colorbar": {
             "outlinewidth": 0,
             "ticks": ""
            },
            "colorscale": [
             [
              0,
              "#0d0887"
             ],
             [
              0.1111111111111111,
              "#46039f"
             ],
             [
              0.2222222222222222,
              "#7201a8"
             ],
             [
              0.3333333333333333,
              "#9c179e"
             ],
             [
              0.4444444444444444,
              "#bd3786"
             ],
             [
              0.5555555555555556,
              "#d8576b"
             ],
             [
              0.6666666666666666,
              "#ed7953"
             ],
             [
              0.7777777777777778,
              "#fb9f3a"
             ],
             [
              0.8888888888888888,
              "#fdca26"
             ],
             [
              1,
              "#f0f921"
             ]
            ],
            "type": "surface"
           }
          ],
          "table": [
           {
            "cells": {
             "fill": {
              "color": "#EBF0F8"
             },
             "line": {
              "color": "white"
             }
            },
            "header": {
             "fill": {
              "color": "#C8D4E3"
             },
             "line": {
              "color": "white"
             }
            },
            "type": "table"
           }
          ]
         },
         "layout": {
          "annotationdefaults": {
           "arrowcolor": "#2a3f5f",
           "arrowhead": 0,
           "arrowwidth": 1
          },
          "autotypenumbers": "strict",
          "coloraxis": {
           "colorbar": {
            "outlinewidth": 0,
            "ticks": ""
           }
          },
          "colorscale": {
           "diverging": [
            [
             0,
             "#8e0152"
            ],
            [
             0.1,
             "#c51b7d"
            ],
            [
             0.2,
             "#de77ae"
            ],
            [
             0.3,
             "#f1b6da"
            ],
            [
             0.4,
             "#fde0ef"
            ],
            [
             0.5,
             "#f7f7f7"
            ],
            [
             0.6,
             "#e6f5d0"
            ],
            [
             0.7,
             "#b8e186"
            ],
            [
             0.8,
             "#7fbc41"
            ],
            [
             0.9,
             "#4d9221"
            ],
            [
             1,
             "#276419"
            ]
           ],
           "sequential": [
            [
             0,
             "#0d0887"
            ],
            [
             0.1111111111111111,
             "#46039f"
            ],
            [
             0.2222222222222222,
             "#7201a8"
            ],
            [
             0.3333333333333333,
             "#9c179e"
            ],
            [
             0.4444444444444444,
             "#bd3786"
            ],
            [
             0.5555555555555556,
             "#d8576b"
            ],
            [
             0.6666666666666666,
             "#ed7953"
            ],
            [
             0.7777777777777778,
             "#fb9f3a"
            ],
            [
             0.8888888888888888,
             "#fdca26"
            ],
            [
             1,
             "#f0f921"
            ]
           ],
           "sequentialminus": [
            [
             0,
             "#0d0887"
            ],
            [
             0.1111111111111111,
             "#46039f"
            ],
            [
             0.2222222222222222,
             "#7201a8"
            ],
            [
             0.3333333333333333,
             "#9c179e"
            ],
            [
             0.4444444444444444,
             "#bd3786"
            ],
            [
             0.5555555555555556,
             "#d8576b"
            ],
            [
             0.6666666666666666,
             "#ed7953"
            ],
            [
             0.7777777777777778,
             "#fb9f3a"
            ],
            [
             0.8888888888888888,
             "#fdca26"
            ],
            [
             1,
             "#f0f921"
            ]
           ]
          },
          "colorway": [
           "#636efa",
           "#EF553B",
           "#00cc96",
           "#ab63fa",
           "#FFA15A",
           "#19d3f3",
           "#FF6692",
           "#B6E880",
           "#FF97FF",
           "#FECB52"
          ],
          "font": {
           "color": "#2a3f5f"
          },
          "geo": {
           "bgcolor": "white",
           "lakecolor": "white",
           "landcolor": "#E5ECF6",
           "showlakes": true,
           "showland": true,
           "subunitcolor": "white"
          },
          "hoverlabel": {
           "align": "left"
          },
          "hovermode": "closest",
          "mapbox": {
           "style": "light"
          },
          "paper_bgcolor": "white",
          "plot_bgcolor": "#E5ECF6",
          "polar": {
           "angularaxis": {
            "gridcolor": "white",
            "linecolor": "white",
            "ticks": ""
           },
           "bgcolor": "#E5ECF6",
           "radialaxis": {
            "gridcolor": "white",
            "linecolor": "white",
            "ticks": ""
           }
          },
          "scene": {
           "xaxis": {
            "backgroundcolor": "#E5ECF6",
            "gridcolor": "white",
            "gridwidth": 2,
            "linecolor": "white",
            "showbackground": true,
            "ticks": "",
            "zerolinecolor": "white"
           },
           "yaxis": {
            "backgroundcolor": "#E5ECF6",
            "gridcolor": "white",
            "gridwidth": 2,
            "linecolor": "white",
            "showbackground": true,
            "ticks": "",
            "zerolinecolor": "white"
           },
           "zaxis": {
            "backgroundcolor": "#E5ECF6",
            "gridcolor": "white",
            "gridwidth": 2,
            "linecolor": "white",
            "showbackground": true,
            "ticks": "",
            "zerolinecolor": "white"
           }
          },
          "shapedefaults": {
           "line": {
            "color": "#2a3f5f"
           }
          },
          "ternary": {
           "aaxis": {
            "gridcolor": "white",
            "linecolor": "white",
            "ticks": ""
           },
           "baxis": {
            "gridcolor": "white",
            "linecolor": "white",
            "ticks": ""
           },
           "bgcolor": "#E5ECF6",
           "caxis": {
            "gridcolor": "white",
            "linecolor": "white",
            "ticks": ""
           }
          },
          "title": {
           "x": 0.05
          },
          "xaxis": {
           "automargin": true,
           "gridcolor": "white",
           "linecolor": "white",
           "ticks": "",
           "title": {
            "standoff": 15
           },
           "zerolinecolor": "white",
           "zerolinewidth": 2
          },
          "yaxis": {
           "automargin": true,
           "gridcolor": "white",
           "linecolor": "white",
           "ticks": "",
           "title": {
            "standoff": 15
           },
           "zerolinecolor": "white",
           "zerolinewidth": 2
          }
         }
        }
       }
      },
      "text/html": [
       "<div>                            <div id=\"2c3b427b-16cb-4d9c-ae0c-75b89f8ed676\" class=\"plotly-graph-div\" style=\"height:525px; width:100%;\"></div>            <script type=\"text/javascript\">                require([\"plotly\"], function(Plotly) {                    window.PLOTLYENV=window.PLOTLYENV || {};                                    if (document.getElementById(\"2c3b427b-16cb-4d9c-ae0c-75b89f8ed676\")) {                    Plotly.newPlot(                        \"2c3b427b-16cb-4d9c-ae0c-75b89f8ed676\",                        [{\"name\": \"Neutral\", \"type\": \"bar\", \"width\": 0.1, \"x\": [\"USA\", \"IND\", \"UK\"], \"y\": [20, 65, 16]}, {\"name\": \"positive\", \"type\": \"bar\", \"width\": 0.1, \"x\": [\"USA\", \"IND\", \"UK\"], \"y\": [50, 39, 27]}, {\"name\": \"Negative\", \"type\": \"bar\", \"width\": 0.1, \"x\": [\"USA\", \"IND\", \"UK\"], \"y\": [30, 23, 41]}],                        {\"barmode\": \"stack\", \"colorway\": [\"yellow\", \"green\", \"red\"], \"template\": {\"data\": {\"bar\": [{\"error_x\": {\"color\": \"#2a3f5f\"}, \"error_y\": {\"color\": \"#2a3f5f\"}, \"marker\": {\"line\": {\"color\": \"#E5ECF6\", \"width\": 0.5}}, \"type\": \"bar\"}], \"barpolar\": [{\"marker\": {\"line\": {\"color\": \"#E5ECF6\", \"width\": 0.5}}, \"type\": \"barpolar\"}], \"carpet\": [{\"aaxis\": {\"endlinecolor\": \"#2a3f5f\", \"gridcolor\": \"white\", \"linecolor\": \"white\", \"minorgridcolor\": \"white\", \"startlinecolor\": \"#2a3f5f\"}, \"baxis\": {\"endlinecolor\": \"#2a3f5f\", \"gridcolor\": \"white\", \"linecolor\": \"white\", \"minorgridcolor\": \"white\", \"startlinecolor\": \"#2a3f5f\"}, \"type\": \"carpet\"}], \"choropleth\": [{\"colorbar\": {\"outlinewidth\": 0, \"ticks\": \"\"}, \"type\": \"choropleth\"}], \"contour\": [{\"colorbar\": {\"outlinewidth\": 0, \"ticks\": \"\"}, \"colorscale\": [[0.0, \"#0d0887\"], [0.1111111111111111, \"#46039f\"], [0.2222222222222222, \"#7201a8\"], [0.3333333333333333, \"#9c179e\"], [0.4444444444444444, \"#bd3786\"], [0.5555555555555556, \"#d8576b\"], [0.6666666666666666, \"#ed7953\"], [0.7777777777777778, \"#fb9f3a\"], [0.8888888888888888, \"#fdca26\"], [1.0, \"#f0f921\"]], \"type\": \"contour\"}], \"contourcarpet\": [{\"colorbar\": {\"outlinewidth\": 0, \"ticks\": \"\"}, \"type\": \"contourcarpet\"}], \"heatmap\": [{\"colorbar\": {\"outlinewidth\": 0, \"ticks\": \"\"}, \"colorscale\": [[0.0, \"#0d0887\"], [0.1111111111111111, \"#46039f\"], [0.2222222222222222, \"#7201a8\"], [0.3333333333333333, \"#9c179e\"], [0.4444444444444444, \"#bd3786\"], [0.5555555555555556, \"#d8576b\"], [0.6666666666666666, \"#ed7953\"], [0.7777777777777778, \"#fb9f3a\"], [0.8888888888888888, \"#fdca26\"], [1.0, \"#f0f921\"]], \"type\": \"heatmap\"}], \"heatmapgl\": [{\"colorbar\": {\"outlinewidth\": 0, \"ticks\": \"\"}, \"colorscale\": [[0.0, \"#0d0887\"], [0.1111111111111111, \"#46039f\"], [0.2222222222222222, \"#7201a8\"], [0.3333333333333333, \"#9c179e\"], [0.4444444444444444, \"#bd3786\"], [0.5555555555555556, \"#d8576b\"], [0.6666666666666666, \"#ed7953\"], [0.7777777777777778, \"#fb9f3a\"], [0.8888888888888888, \"#fdca26\"], [1.0, \"#f0f921\"]], \"type\": \"heatmapgl\"}], \"histogram\": [{\"marker\": {\"colorbar\": {\"outlinewidth\": 0, \"ticks\": \"\"}}, \"type\": \"histogram\"}], \"histogram2d\": [{\"colorbar\": {\"outlinewidth\": 0, \"ticks\": \"\"}, \"colorscale\": [[0.0, \"#0d0887\"], [0.1111111111111111, \"#46039f\"], [0.2222222222222222, \"#7201a8\"], [0.3333333333333333, \"#9c179e\"], [0.4444444444444444, \"#bd3786\"], [0.5555555555555556, \"#d8576b\"], [0.6666666666666666, \"#ed7953\"], [0.7777777777777778, \"#fb9f3a\"], [0.8888888888888888, \"#fdca26\"], [1.0, \"#f0f921\"]], \"type\": \"histogram2d\"}], \"histogram2dcontour\": [{\"colorbar\": {\"outlinewidth\": 0, \"ticks\": \"\"}, \"colorscale\": [[0.0, \"#0d0887\"], [0.1111111111111111, \"#46039f\"], [0.2222222222222222, \"#7201a8\"], [0.3333333333333333, \"#9c179e\"], [0.4444444444444444, \"#bd3786\"], [0.5555555555555556, \"#d8576b\"], [0.6666666666666666, \"#ed7953\"], [0.7777777777777778, \"#fb9f3a\"], [0.8888888888888888, \"#fdca26\"], [1.0, \"#f0f921\"]], \"type\": \"histogram2dcontour\"}], \"mesh3d\": [{\"colorbar\": {\"outlinewidth\": 0, \"ticks\": \"\"}, \"type\": \"mesh3d\"}], \"parcoords\": [{\"line\": {\"colorbar\": {\"outlinewidth\": 0, \"ticks\": \"\"}}, \"type\": \"parcoords\"}], \"pie\": [{\"automargin\": true, \"type\": \"pie\"}], \"scatter\": [{\"marker\": {\"colorbar\": {\"outlinewidth\": 0, \"ticks\": \"\"}}, \"type\": \"scatter\"}], \"scatter3d\": [{\"line\": {\"colorbar\": {\"outlinewidth\": 0, \"ticks\": \"\"}}, \"marker\": {\"colorbar\": {\"outlinewidth\": 0, \"ticks\": \"\"}}, \"type\": \"scatter3d\"}], \"scattercarpet\": [{\"marker\": {\"colorbar\": {\"outlinewidth\": 0, \"ticks\": \"\"}}, \"type\": \"scattercarpet\"}], \"scattergeo\": [{\"marker\": {\"colorbar\": {\"outlinewidth\": 0, \"ticks\": \"\"}}, \"type\": \"scattergeo\"}], \"scattergl\": [{\"marker\": {\"colorbar\": {\"outlinewidth\": 0, \"ticks\": \"\"}}, \"type\": \"scattergl\"}], \"scattermapbox\": [{\"marker\": {\"colorbar\": {\"outlinewidth\": 0, \"ticks\": \"\"}}, \"type\": \"scattermapbox\"}], \"scatterpolar\": [{\"marker\": {\"colorbar\": {\"outlinewidth\": 0, \"ticks\": \"\"}}, \"type\": \"scatterpolar\"}], \"scatterpolargl\": [{\"marker\": {\"colorbar\": {\"outlinewidth\": 0, \"ticks\": \"\"}}, \"type\": \"scatterpolargl\"}], \"scatterternary\": [{\"marker\": {\"colorbar\": {\"outlinewidth\": 0, \"ticks\": \"\"}}, \"type\": \"scatterternary\"}], \"surface\": [{\"colorbar\": {\"outlinewidth\": 0, \"ticks\": \"\"}, \"colorscale\": [[0.0, \"#0d0887\"], [0.1111111111111111, \"#46039f\"], [0.2222222222222222, \"#7201a8\"], [0.3333333333333333, \"#9c179e\"], [0.4444444444444444, \"#bd3786\"], [0.5555555555555556, \"#d8576b\"], [0.6666666666666666, \"#ed7953\"], [0.7777777777777778, \"#fb9f3a\"], [0.8888888888888888, \"#fdca26\"], [1.0, \"#f0f921\"]], \"type\": \"surface\"}], \"table\": [{\"cells\": {\"fill\": {\"color\": \"#EBF0F8\"}, \"line\": {\"color\": \"white\"}}, \"header\": {\"fill\": {\"color\": \"#C8D4E3\"}, \"line\": {\"color\": \"white\"}}, \"type\": \"table\"}]}, \"layout\": {\"annotationdefaults\": {\"arrowcolor\": \"#2a3f5f\", \"arrowhead\": 0, \"arrowwidth\": 1}, \"autotypenumbers\": \"strict\", \"coloraxis\": {\"colorbar\": {\"outlinewidth\": 0, \"ticks\": \"\"}}, \"colorscale\": {\"diverging\": [[0, \"#8e0152\"], [0.1, \"#c51b7d\"], [0.2, \"#de77ae\"], [0.3, \"#f1b6da\"], [0.4, \"#fde0ef\"], [0.5, \"#f7f7f7\"], [0.6, \"#e6f5d0\"], [0.7, \"#b8e186\"], [0.8, \"#7fbc41\"], [0.9, \"#4d9221\"], [1, \"#276419\"]], \"sequential\": [[0.0, \"#0d0887\"], [0.1111111111111111, \"#46039f\"], [0.2222222222222222, \"#7201a8\"], [0.3333333333333333, \"#9c179e\"], [0.4444444444444444, \"#bd3786\"], [0.5555555555555556, \"#d8576b\"], [0.6666666666666666, \"#ed7953\"], [0.7777777777777778, \"#fb9f3a\"], [0.8888888888888888, \"#fdca26\"], [1.0, \"#f0f921\"]], \"sequentialminus\": [[0.0, \"#0d0887\"], [0.1111111111111111, \"#46039f\"], [0.2222222222222222, \"#7201a8\"], [0.3333333333333333, \"#9c179e\"], [0.4444444444444444, \"#bd3786\"], [0.5555555555555556, \"#d8576b\"], [0.6666666666666666, \"#ed7953\"], [0.7777777777777778, \"#fb9f3a\"], [0.8888888888888888, \"#fdca26\"], [1.0, \"#f0f921\"]]}, \"colorway\": [\"#636efa\", \"#EF553B\", \"#00cc96\", \"#ab63fa\", \"#FFA15A\", \"#19d3f3\", \"#FF6692\", \"#B6E880\", \"#FF97FF\", \"#FECB52\"], \"font\": {\"color\": \"#2a3f5f\"}, \"geo\": {\"bgcolor\": \"white\", \"lakecolor\": \"white\", \"landcolor\": \"#E5ECF6\", \"showlakes\": true, \"showland\": true, \"subunitcolor\": \"white\"}, \"hoverlabel\": {\"align\": \"left\"}, \"hovermode\": \"closest\", \"mapbox\": {\"style\": \"light\"}, \"paper_bgcolor\": \"white\", \"plot_bgcolor\": \"#E5ECF6\", \"polar\": {\"angularaxis\": {\"gridcolor\": \"white\", \"linecolor\": \"white\", \"ticks\": \"\"}, \"bgcolor\": \"#E5ECF6\", \"radialaxis\": {\"gridcolor\": \"white\", \"linecolor\": \"white\", \"ticks\": \"\"}}, \"scene\": {\"xaxis\": {\"backgroundcolor\": \"#E5ECF6\", \"gridcolor\": \"white\", \"gridwidth\": 2, \"linecolor\": \"white\", \"showbackground\": true, \"ticks\": \"\", \"zerolinecolor\": \"white\"}, \"yaxis\": {\"backgroundcolor\": \"#E5ECF6\", \"gridcolor\": \"white\", \"gridwidth\": 2, \"linecolor\": \"white\", \"showbackground\": true, \"ticks\": \"\", \"zerolinecolor\": \"white\"}, \"zaxis\": {\"backgroundcolor\": \"#E5ECF6\", \"gridcolor\": \"white\", \"gridwidth\": 2, \"linecolor\": \"white\", \"showbackground\": true, \"ticks\": \"\", \"zerolinecolor\": \"white\"}}, \"shapedefaults\": {\"line\": {\"color\": \"#2a3f5f\"}}, \"ternary\": {\"aaxis\": {\"gridcolor\": \"white\", \"linecolor\": \"white\", \"ticks\": \"\"}, \"baxis\": {\"gridcolor\": \"white\", \"linecolor\": \"white\", \"ticks\": \"\"}, \"bgcolor\": \"#E5ECF6\", \"caxis\": {\"gridcolor\": \"white\", \"linecolor\": \"white\", \"ticks\": \"\"}}, \"title\": {\"x\": 0.05}, \"xaxis\": {\"automargin\": true, \"gridcolor\": \"white\", \"linecolor\": \"white\", \"ticks\": \"\", \"title\": {\"standoff\": 15}, \"zerolinecolor\": \"white\", \"zerolinewidth\": 2}, \"yaxis\": {\"automargin\": true, \"gridcolor\": \"white\", \"linecolor\": \"white\", \"ticks\": \"\", \"title\": {\"standoff\": 15}, \"zerolinecolor\": \"white\", \"zerolinewidth\": 2}}}},                        {\"responsive\": true}                    ).then(function(){\n",
       "                            \n",
       "var gd = document.getElementById('2c3b427b-16cb-4d9c-ae0c-75b89f8ed676');\n",
       "var x = new MutationObserver(function (mutations, observer) {{\n",
       "        var display = window.getComputedStyle(gd).display;\n",
       "        if (!display || display === 'none') {{\n",
       "            console.log([gd, 'removed!']);\n",
       "            Plotly.purge(gd);\n",
       "            observer.disconnect();\n",
       "        }}\n",
       "}});\n",
       "\n",
       "// Listen for the removal of the full notebook cells\n",
       "var notebookContainer = gd.closest('#notebook-container');\n",
       "if (notebookContainer) {{\n",
       "    x.observe(notebookContainer, {childList: true});\n",
       "}}\n",
       "\n",
       "// Listen for the clearing of the current output cell\n",
       "var outputEl = gd.closest('.output');\n",
       "if (outputEl) {{\n",
       "    x.observe(outputEl, {childList: true});\n",
       "}}\n",
       "\n",
       "                        })                };                });            </script>        </div>"
      ]
     },
     "metadata": {},
     "output_type": "display_data"
    }
   ],
   "source": [
    "import numpy as np\n",
    "import pandas as pd\n",
    "import matplotlib.pyplot as plt\n",
    "import plotly.graph_objects as px\n",
    "from matplotlib.colors import LinearSegmentedColormap\n",
    "import seaborn as sns\n",
    "\n",
    "data = pd.read_csv('/home/prachi/Desktop/DEMO.csv',engine='python')\n",
    "\n",
    "X = data.location\n",
    "cmap1 = ['yellow','green','red']\n",
    "\n",
    "plot = px.Figure(data = [ px.Bar(name='Neutral' , x = X,y = data.Neutral ,width=0.1) , \n",
    "                         px.Bar(name='positive' , x = X,y = data.Positive,width=0.1),\n",
    "                        px.Bar(name='Negative' , x = X,y = data.Negative,width=0.1 )])\n",
    "plot.update_layout(barmode='stack',colorway=cmap1)\n",
    "plot.show()\n"
   ]
  },
  {
   "cell_type": "code",
   "execution_count": 37,
   "metadata": {},
   "outputs": [
    {
     "data": {
      "text/plain": [
       "array(['ohio', 'Simple Pleasures Lane', 'Karachi, Pakistan',\n",
       "       'South Africa', 'Pretoria, South Africa', 'Marseille, France',\n",
       "       'Corona, CA', 'Valencia, Spain', 'Derbyshire, England',\n",
       "       'Los Angeles', 'Tel Aviv', 'Curaçao',\n",
       "       'North Hollywood, Los Angeles', 'Beverly Hills, California ',\n",
       "       'Lexington, KY', 'St. Thomas, USVI', nan, 'Miami FL',\n",
       "       'Chicago, IL', 'United Kingdom', 'England, United Kingdom',\n",
       "       'leeds, yorkshire, uk', '9800 SW 77th Av Miami FL 33156',\n",
       "       'Overlea, MD', 'Des Moines, Iowa', 'North Carolina',\n",
       "       'Ljubljana, Slovenija', 'Lagos, Nigeria', 'Boogie Down Bronx',\n",
       "       '849 College St Toronto, ON', 'Los Angeles, California, USA',\n",
       "       'Yola, Nigeria', 'London', 'india//oman ',\n",
       "       '32.94956446,-117.0566118', 'Tucson, AZ',\n",
       "       'Dallas, TX and Los Angles, CA ', 'Boardman, OH',\n",
       "       'Milano, Lombardia', 'Los Angeles, CA', 'Namibia', 'JAX | FL',\n",
       "       'Ramsbottom, England', 'Beirut, Lebanon', 'Layton, UT',\n",
       "       'Manchester | London', 'St Neots, Cambridgeshire',\n",
       "       'Atlanta Georgia', 'MIDRAND-Johannesburg,RSA', 'Imo, Nigeria',\n",
       "       'Auburndale, FL', 'Unknown ', 'Winslow, ME', 'South Bay ',\n",
       "       'Box, England', 'Edinburgh', 'Haryana, India',\n",
       "       'Shelby Township, MI', 'New York', 'Dar es Salaam, Tanzania',\n",
       "       'UK // UGANDA', '907 Mammoth Cave Road',\n",
       "       'Oxford, London SE1, Paris', 'Dallas',\n",
       "       ' 3.000 Ft Above Detroit, MI', 'TX → LA', 'Corona, NY',\n",
       "       'Cherry Hill, NJ', 'Melbourne, FL', 'Pontiac, MI',\n",
       "       'California, USA', 'Pennsylvania, USA', 'California',\n",
       "       'Laguna Beach, CA', 'Harrisburg, PA', 'Manchester UK',\n",
       "       'Oke-Mosan Abeokuta Ogun State', 'Toronto, ON', 'New York, USA',\n",
       "       'Portland, ME', '330 W 36 Rm 517  NY 10018', 'New Orleans, La',\n",
       "       'Toronto', 'Croydon, London', 'Stevo world',\n",
       "       'Manhattan, New York ', 'Wichita, KS', 'bukade@gmail.com',\n",
       "       'San Francisco', 'Dhaka, Bangladesh'], dtype=object)"
      ]
     },
     "execution_count": 37,
     "metadata": {},
     "output_type": "execute_result"
    }
   ],
   "source": [
    "import numpy as np\n",
    "import pandas as pd\n",
    "\n",
    "data = pd.read_csv('/home/prachi/Downloads/Sentiment Analysis/march.csv',engine='python')\n",
    "data.Location.unique()"
   ]
  },
  {
   "cell_type": "code",
   "execution_count": null,
   "metadata": {},
   "outputs": [],
   "source": []
  }
 ],
 "metadata": {
  "kernelspec": {
   "display_name": "Python 3",
   "language": "python",
   "name": "python3"
  },
  "language_info": {
   "codemirror_mode": {
    "name": "ipython",
    "version": 3
   },
   "file_extension": ".py",
   "mimetype": "text/x-python",
   "name": "python",
   "nbconvert_exporter": "python",
   "pygments_lexer": "ipython3",
   "version": "3.8.5"
  }
 },
 "nbformat": 4,
 "nbformat_minor": 4
}
